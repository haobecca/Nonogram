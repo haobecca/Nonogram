{
 "cells": [
  {
   "cell_type": "markdown",
   "metadata": {},
   "source": [
    "# Nonogram Logic"
   ]
  },
  {
   "cell_type": "code",
   "execution_count": 1,
   "metadata": {},
   "outputs": [
    {
     "name": "stdout",
     "output_type": "stream",
     "text": [
      " #   # \n",
      "### ###\n",
      "#######\n",
      "#######\n",
      " ##### \n",
      "  ###  \n",
      "   #   \n"
     ]
    }
   ],
   "source": [
    "import numpy as np\n",
    "\n",
    "'''\n",
    "row1 = ['#', '#', '#', '#']\n",
    "row2 = ['#','-','-','#']\n",
    "row3 = ['#','-','-','#']\n",
    "row4 = ['#', '-', '#', '#']\n",
    "row5 = ['#', '#', '#', '-']\n",
    "'''\n",
    "\n",
    "\n",
    "row1 = [' ', '#', ' ', ' ', ' ', '#', ' ']\n",
    "row2 = ['#', '#', '#', ' ', '#', '#', '#']\n",
    "row3 = ['#', '#', '#', '#', '#', '#', '#']\n",
    "row4 = ['#', '#', '#', '#', '#', '#', '#']\n",
    "row5 = [' ', '#', '#', '#', '#', '#', ' ']\n",
    "row6 = [' ', ' ', '#', '#', '#', ' ', ' ']\n",
    "row7 = [' ', ' ', ' ', '#', ' ', ' ', ' ']\n",
    "\n",
    "grid = [row1, row2, row3, row4, row5, row6, row7]\n",
    "\n",
    "grid_row = np.array(grid)\n",
    "\n",
    "height = 7\n",
    "width = 7\n",
    "\n",
    "def print_grid(grid):\n",
    "    for row in grid:\n",
    "            for el in row:\n",
    "                print(el, end='')\n",
    "            print()\n",
    "\n",
    "            \n",
    "print_grid(grid_row)\n"
   ]
  },
  {
   "cell_type": "code",
   "execution_count": 2,
   "metadata": {},
   "outputs": [
    {
     "name": "stdout",
     "output_type": "stream",
     "text": [
      " #   # ### ################# #####   ###     #   /\n"
     ]
    }
   ],
   "source": [
    "def compile_grid(grid):\n",
    "    el_list = []\n",
    "    for row in grid:\n",
    "        for el in row:\n",
    "            el_list.append(el)\n",
    "    grid_str = ''.join(el_list) + '/'\n",
    "    return grid_str\n",
    "\n",
    "print(compile_grid(grid_row))"
   ]
  },
  {
   "cell_type": "code",
   "execution_count": 3,
   "metadata": {},
   "outputs": [
    {
     "name": "stdout",
     "output_type": "stream",
     "text": [
      " ###   \n",
      "#####  \n",
      " ##### \n",
      "  #####\n",
      " ##### \n",
      "#####  \n",
      " ###   \n",
      "\n",
      " ###   #####   #####   ##### ##### #####   ###   /\n"
     ]
    }
   ],
   "source": [
    "grid_col = np.transpose(grid_row)\n",
    "        \n",
    "print_grid(grid_col)\n",
    "print()\n",
    "print(compile_grid(grid_col))"
   ]
  },
  {
   "cell_type": "code",
   "execution_count": 4,
   "metadata": {},
   "outputs": [
    {
     "name": "stdout",
     "output_type": "stream",
     "text": [
      "1 , 1 , \n",
      "3 , 3 , \n",
      "7 , \n",
      "7 , \n",
      "5 , \n",
      "3 , \n",
      "1 , \n"
     ]
    }
   ],
   "source": [
    "def make_row_hints(solution):\n",
    "    row_hint = []\n",
    "    hint_count = 0\n",
    "    el_count = 0\n",
    "    for el in solution:\n",
    "        if el_count == width:\n",
    "            row_hint.append(hint_count)\n",
    "            row_hint.append(' ')\n",
    "            el_count = 0\n",
    "            hint_count = 0\n",
    "        if el == '#':\n",
    "            el_count += 1\n",
    "            hint_count += 1\n",
    "        else:\n",
    "            el_count += 1\n",
    "            row_hint.append(hint_count)\n",
    "            hint_count = 0\n",
    "    for count in row_hint:\n",
    "        if count == ' ':\n",
    "            print()\n",
    "        elif count != 0:\n",
    "            print(count, ', ', end ='')\n",
    "        \n",
    "make_row_hints((compile_grid(grid_row)))"
   ]
  },
  {
   "cell_type": "code",
   "execution_count": 5,
   "metadata": {},
   "outputs": [
    {
     "name": "stdout",
     "output_type": "stream",
     "text": [
      "3 , \n",
      "5 , \n",
      "5 , \n",
      "5 , \n",
      "5 , \n",
      "5 , \n",
      "3 , \n"
     ]
    }
   ],
   "source": [
    "def make_col_hints(solution):\n",
    "    row_hint = []\n",
    "    hint_count = 0\n",
    "    el_count = 0\n",
    "    for el in solution:\n",
    "        if el_count == height:\n",
    "            row_hint.append(hint_count)\n",
    "            row_hint.append(' ')\n",
    "            el_count = 0\n",
    "            hint_count = 0\n",
    "        if el == '#':\n",
    "            el_count += 1\n",
    "            hint_count += 1\n",
    "        else:\n",
    "            el_count += 1\n",
    "            row_hint.append(hint_count)\n",
    "            hint_count = 0\n",
    "    for count in row_hint:\n",
    "        if count == ' ':\n",
    "            print()\n",
    "        elif count != 0:\n",
    "            print(count, ', ', end ='')\n",
    "        \n",
    "make_col_hints((compile_grid(grid_col)))"
   ]
  },
  {
   "cell_type": "code",
   "execution_count": 95,
   "metadata": {},
   "outputs": [
    {
     "name": "stdout",
     "output_type": "stream",
     "text": [
      "     | | | | | | | |\n",
      "     | | | | | | | |\n",
      "     |3|5|5|5|5|5|3|\n",
      "     |-|-|-|-|-|-|-|\n",
      "  1 1|.|.|.|.|.|.|.|\n",
      "  3 3|.|.|.|.|.|.|.|\n",
      "    7|.|.|.|.|.|.|.|\n",
      "    7|.|.|.|.|.|.|.|\n",
      "    5|.|.|.|.|.|.|.|\n",
      "    3|.|.|.|.|.|.|.|\n",
      "    1|.|.|.|.|.|.|.|\n"
     ]
    }
   ],
   "source": [
    "def print_grid(c_hints, grid):\n",
    "    for crow in c_hints:\n",
    "        print('     |', end='')\n",
    "        for item in crow:\n",
    "            print(item + '|', end='')\n",
    "        print()\n",
    "    for row in grid:\n",
    "            for el in row:\n",
    "                print(el, end='')\n",
    "            print()\n",
    "\n",
    "col_hints = np.array([[' ', ' ', ' ', ' ', ' ', ' ', ' '], [' ', ' ', ' ', ' ', ' ', ' ', ' '], ['3', '5', '5', '5', '5', '5', '3']])\n",
    "row_hints = np.array([[' ', '1', '1'], [' ', '3', '3'], [' ', ' ', '7'], [' ', ' ', '7'], [' ', ' ', '5'], [' ', ' ', '3'], [' ', ' ', '1']])\n",
    "col_divide = [' ', ' ', ' ', ' ', ' ', '|'] + ['-', '|'] * width\n",
    "init_row1 = [row_hints[0,0], ' ', row_hints[0,1], ' ', row_hints[0,2], '|']  + ['.', '|'] * width\n",
    "init_row2 = [row_hints[1,0], ' ', row_hints[1,1], ' ', row_hints[1,2], '|']  + ['.', '|'] * width\n",
    "init_row3 = [row_hints[2,0], ' ', row_hints[2,1], ' ', row_hints[2,2], '|']  + ['.', '|'] * width\n",
    "init_row4 = [row_hints[3,0], ' ', row_hints[3,1], ' ', row_hints[3,2], '|']  + ['.', '|'] * width\n",
    "init_row5 = [row_hints[4,0], ' ', row_hints[4,1], ' ', row_hints[4,2], '|']  + ['.', '|'] * width\n",
    "init_row6 = [row_hints[5,0], ' ', row_hints[5,1], ' ', row_hints[5,2], '|']  + ['.', '|'] * width\n",
    "init_row7 = [row_hints[6,0], ' ', row_hints[6,1], ' ', row_hints[6,2], '|']  + ['.', '|'] * width\n",
    "\n",
    "initial_grid = np.array([col_divide, init_row1, init_row2, init_row3, init_row4, init_row5, init_row6, init_row7])\n",
    "print_grid(col_hints, initial_grid)"
   ]
  },
  {
   "cell_type": "code",
   "execution_count": 96,
   "metadata": {},
   "outputs": [],
   "source": [
    "def insert_fill(x,y):\n",
    "    initial_grid[(x, y*2+4)] = '#'\n",
    "    print_grid(col_hints, initial_grid)"
   ]
  },
  {
   "cell_type": "code",
   "execution_count": 97,
   "metadata": {},
   "outputs": [
    {
     "name": "stdout",
     "output_type": "stream",
     "text": [
      "     | | | | | | | |\n",
      "     | | | | | | | |\n",
      "     |3|5|5|5|5|5|3|\n",
      "     |-|-|-|-|-|-|-|\n",
      "  1 1|#|.|.|.|.|.|.|\n",
      "  3 3|.|.|.|.|.|.|.|\n",
      "    7|.|.|.|.|.|.|.|\n",
      "    7|.|.|.|.|.|.|.|\n",
      "    5|.|.|.|.|.|.|.|\n",
      "    3|.|.|.|.|.|.|.|\n",
      "    1|.|.|.|.|.|.|.|\n"
     ]
    }
   ],
   "source": [
    "insert_fill(1,1)"
   ]
  },
  {
   "cell_type": "code",
   "execution_count": null,
   "metadata": {},
   "outputs": [],
   "source": []
  },
  {
   "cell_type": "code",
   "execution_count": null,
   "metadata": {},
   "outputs": [],
   "source": []
  },
  {
   "cell_type": "code",
   "execution_count": null,
   "metadata": {},
   "outputs": [],
   "source": []
  },
  {
   "cell_type": "code",
   "execution_count": null,
   "metadata": {},
   "outputs": [],
   "source": []
  }
 ],
 "metadata": {
  "kernelspec": {
   "display_name": "Python 3",
   "language": "python",
   "name": "python3"
  },
  "language_info": {
   "codemirror_mode": {
    "name": "ipython",
    "version": 3
   },
   "file_extension": ".py",
   "mimetype": "text/x-python",
   "name": "python",
   "nbconvert_exporter": "python",
   "pygments_lexer": "ipython3",
   "version": "3.6.5"
  }
 },
 "nbformat": 4,
 "nbformat_minor": 2
}
